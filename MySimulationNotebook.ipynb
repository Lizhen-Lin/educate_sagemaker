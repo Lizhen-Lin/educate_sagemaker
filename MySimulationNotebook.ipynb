{
 "cells": [
  {
   "cell_type": "code",
   "execution_count": 1,
   "id": "18eda31c-02cb-43e5-808b-b803bbdff353",
   "metadata": {},
   "outputs": [
    {
     "name": "stdout",
     "output_type": "stream",
     "text": [
      "Hello hello\n"
     ]
    }
   ],
   "source": [
    "print(\"Hello hello\")"
   ]
  },
  {
   "cell_type": "code",
   "execution_count": 2,
   "id": "de51260f-9680-4661-adda-2d389d49155c",
   "metadata": {},
   "outputs": [],
   "source": [
    "import time\n",
    "time.sleep(10)"
   ]
  },
  {
   "cell_type": "code",
   "execution_count": 3,
   "id": "3cc3c037-5463-49e9-b8f5-5343456c328b",
   "metadata": {},
   "outputs": [
    {
     "name": "stdout",
     "output_type": "stream",
     "text": [
      "14\n",
      "144\n",
      "6.0\n"
     ]
    }
   ],
   "source": [
    "a = 12\n",
    "b = 2\n",
    "print(a + b)\n",
    "print(a**b)\n",
    "print(a/b)"
   ]
  },
  {
   "cell_type": "markdown",
   "id": "7e5ba4bd-b322-4fcf-b329-a6e3fc43edae",
   "metadata": {},
   "source": [
    "# Technical Report\n",
    "Here is my technical report."
   ]
  },
  {
   "cell_type": "markdown",
   "id": "0881f278-7b34-4bc1-842f-4adf66ee749c",
   "metadata": {},
   "source": [
    "# Header 1\n",
    "## Header 2\n",
    "### Header 3\n",
    "#### Header 4"
   ]
  },
  {
   "cell_type": "markdown",
   "id": "bf13b564-6624-4ca9-9905-d0d0df28ddf1",
   "metadata": {},
   "source": [
    "- Item 1\n",
    "- Item 2\n",
    "- Item 3"
   ]
  },
  {
   "cell_type": "markdown",
   "id": "09e42f87-8af6-46a0-a4d6-85ac621f0a8a",
   "metadata": {},
   "source": [
    "```python\n",
    "s = 'Syntax highlighting for Python'\n",
    "print(x)x```"
   ]
  },
  {
   "cell_type": "code",
   "execution_count": 4,
   "id": "905e0c9f-26e6-4826-aee2-a6298494fea1",
   "metadata": {},
   "outputs": [
    {
     "name": "stdout",
     "output_type": "stream",
     "text": [
      "total 20\n",
      "-rw-rw-r-- 1 ec2-user ec2-user 11357 Feb 13 00:23 LICENSE\n",
      "-rw-rw-r-- 1 ec2-user ec2-user  3265 Feb 13 00:47 MySimulationNotebook.ipynb\n",
      "-rw-rw-r-- 1 ec2-user ec2-user    70 Feb 13 00:23 README.md\n"
     ]
    }
   ],
   "source": [
    "ls -l"
   ]
  },
  {
   "cell_type": "code",
   "execution_count": 5,
   "id": "be4e5920-631b-4f44-a13f-0b97a5f0b0c2",
   "metadata": {},
   "outputs": [
    {
     "name": "stdout",
     "output_type": "stream",
     "text": [
      "/home/ec2-user/SageMaker/educate_sagemaker\n",
      "total 20\n",
      "-rw-rw-r-- 1 ec2-user ec2-user 11357 Feb 13 00:23 LICENSE\n",
      "265 Feb 13 00:47 MySimulationNotebook.ipynb\n",
      ".md-rw-r-- 1 ec2-user ec2-user    70 Feb 13 00:23 README\n",
      "Thu Feb 13 00:50:04 UTC 2025\n"
     ]
    }
   ],
   "source": [
    "%%bash\n",
    "pwd\n",
    "ls -l\n",
    "date"
   ]
  }
 ],
 "metadata": {
  "kernelspec": {
   "display_name": "conda_python3",
   "language": "python",
   "name": "conda_python3"
  },
  "language_info": {
   "codemirror_mode": {
    "name": "ipython",
    "version": 3
   },
   "file_extension": ".py",
   "mimetype": "text/x-python",
   "name": "python",
   "nbconvert_exporter": "python",
   "pygments_lexer": "ipython3",
   "version": "3.10.16"
  }
 },
 "nbformat": 4,
 "nbformat_minor": 5
}
